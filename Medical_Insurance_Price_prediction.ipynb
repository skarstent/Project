{
 "cells": [
  {
   "cell_type": "code",
   "execution_count": 2,
   "id": "6f4114ca",
   "metadata": {
    "scrolled": false
   },
   "outputs": [],
   "source": [
    "import pandas as pd\n",
    "import numpy as np\n",
    "import matplotlib.pyplot as plt\n",
    "from sklearn.model_selection import train_test_split\n",
    "from sklearn.ensemble import RandomForestRegressor\n"
   ]
  },
  {
   "cell_type": "code",
   "execution_count": 3,
   "id": "2957e327",
   "metadata": {},
   "outputs": [
    {
     "data": {
      "text/html": [
       "<div>\n",
       "<style scoped>\n",
       "    .dataframe tbody tr th:only-of-type {\n",
       "        vertical-align: middle;\n",
       "    }\n",
       "\n",
       "    .dataframe tbody tr th {\n",
       "        vertical-align: top;\n",
       "    }\n",
       "\n",
       "    .dataframe thead th {\n",
       "        text-align: right;\n",
       "    }\n",
       "</style>\n",
       "<table border=\"1\" class=\"dataframe\">\n",
       "  <thead>\n",
       "    <tr style=\"text-align: right;\">\n",
       "      <th></th>\n",
       "      <th>age</th>\n",
       "      <th>sex</th>\n",
       "      <th>bmi</th>\n",
       "      <th>children</th>\n",
       "      <th>smoker</th>\n",
       "      <th>region</th>\n",
       "      <th>charges</th>\n",
       "    </tr>\n",
       "  </thead>\n",
       "  <tbody>\n",
       "    <tr>\n",
       "      <th>0</th>\n",
       "      <td>19</td>\n",
       "      <td>female</td>\n",
       "      <td>27.900</td>\n",
       "      <td>0</td>\n",
       "      <td>yes</td>\n",
       "      <td>southwest</td>\n",
       "      <td>16884.92400</td>\n",
       "    </tr>\n",
       "    <tr>\n",
       "      <th>1</th>\n",
       "      <td>18</td>\n",
       "      <td>male</td>\n",
       "      <td>33.770</td>\n",
       "      <td>1</td>\n",
       "      <td>no</td>\n",
       "      <td>southeast</td>\n",
       "      <td>1725.55230</td>\n",
       "    </tr>\n",
       "    <tr>\n",
       "      <th>2</th>\n",
       "      <td>28</td>\n",
       "      <td>male</td>\n",
       "      <td>33.000</td>\n",
       "      <td>3</td>\n",
       "      <td>no</td>\n",
       "      <td>southeast</td>\n",
       "      <td>4449.46200</td>\n",
       "    </tr>\n",
       "    <tr>\n",
       "      <th>3</th>\n",
       "      <td>33</td>\n",
       "      <td>male</td>\n",
       "      <td>22.705</td>\n",
       "      <td>0</td>\n",
       "      <td>no</td>\n",
       "      <td>northwest</td>\n",
       "      <td>21984.47061</td>\n",
       "    </tr>\n",
       "    <tr>\n",
       "      <th>4</th>\n",
       "      <td>32</td>\n",
       "      <td>male</td>\n",
       "      <td>28.880</td>\n",
       "      <td>0</td>\n",
       "      <td>no</td>\n",
       "      <td>northwest</td>\n",
       "      <td>3866.85520</td>\n",
       "    </tr>\n",
       "  </tbody>\n",
       "</table>\n",
       "</div>"
      ],
      "text/plain": [
       "   age     sex     bmi  children smoker     region      charges\n",
       "0   19  female  27.900         0    yes  southwest  16884.92400\n",
       "1   18    male  33.770         1     no  southeast   1725.55230\n",
       "2   28    male  33.000         3     no  southeast   4449.46200\n",
       "3   33    male  22.705         0     no  northwest  21984.47061\n",
       "4   32    male  28.880         0     no  northwest   3866.85520"
      ]
     },
     "execution_count": 3,
     "metadata": {},
     "output_type": "execute_result"
    }
   ],
   "source": [
    "med_data = pd.read_csv(r\"C:\\Dataset\\Medical_insurance.csv\")\n",
    "med_data.head()"
   ]
  },
  {
   "cell_type": "code",
   "execution_count": 4,
   "id": "5cbfc7b8",
   "metadata": {},
   "outputs": [
    {
     "name": "stdout",
     "output_type": "stream",
     "text": [
      "<class 'pandas.core.frame.DataFrame'>\n",
      "RangeIndex: 2772 entries, 0 to 2771\n",
      "Data columns (total 7 columns):\n",
      " #   Column    Non-Null Count  Dtype  \n",
      "---  ------    --------------  -----  \n",
      " 0   age       2772 non-null   int64  \n",
      " 1   sex       2772 non-null   object \n",
      " 2   bmi       2772 non-null   float64\n",
      " 3   children  2772 non-null   int64  \n",
      " 4   smoker    2772 non-null   object \n",
      " 5   region    2772 non-null   object \n",
      " 6   charges   2772 non-null   float64\n",
      "dtypes: float64(2), int64(2), object(3)\n",
      "memory usage: 151.7+ KB\n"
     ]
    }
   ],
   "source": [
    "med_data.info()"
   ]
  },
  {
   "cell_type": "markdown",
   "id": "39f7f46e",
   "metadata": {},
   "source": [
    "# Problem Statements"
   ]
  },
  {
   "cell_type": "markdown",
   "id": "4565c080",
   "metadata": {},
   "source": [
    "## 1. What are the most important factors that affect medical expenses?"
   ]
  },
  {
   "cell_type": "markdown",
   "id": "3585bab9",
   "metadata": {},
   "source": [
    "#### A. Does BMI affect medical expenses?"
   ]
  },
  {
   "cell_type": "code",
   "execution_count": 5,
   "id": "2b92cea0",
   "metadata": {},
   "outputs": [
    {
     "data": {
      "text/html": [
       "<div>\n",
       "<style scoped>\n",
       "    .dataframe tbody tr th:only-of-type {\n",
       "        vertical-align: middle;\n",
       "    }\n",
       "\n",
       "    .dataframe tbody tr th {\n",
       "        vertical-align: top;\n",
       "    }\n",
       "\n",
       "    .dataframe thead th {\n",
       "        text-align: right;\n",
       "    }\n",
       "</style>\n",
       "<table border=\"1\" class=\"dataframe\">\n",
       "  <thead>\n",
       "    <tr style=\"text-align: right;\">\n",
       "      <th></th>\n",
       "      <th>age</th>\n",
       "      <th>sex</th>\n",
       "      <th>bmi</th>\n",
       "      <th>bmi_category</th>\n",
       "      <th>children</th>\n",
       "      <th>smoker</th>\n",
       "      <th>region</th>\n",
       "      <th>charges</th>\n",
       "    </tr>\n",
       "  </thead>\n",
       "  <tbody>\n",
       "    <tr>\n",
       "      <th>0</th>\n",
       "      <td>19</td>\n",
       "      <td>female</td>\n",
       "      <td>27.900</td>\n",
       "      <td>Overweight</td>\n",
       "      <td>0</td>\n",
       "      <td>yes</td>\n",
       "      <td>southwest</td>\n",
       "      <td>16884.92400</td>\n",
       "    </tr>\n",
       "    <tr>\n",
       "      <th>1</th>\n",
       "      <td>18</td>\n",
       "      <td>male</td>\n",
       "      <td>33.770</td>\n",
       "      <td>Obese</td>\n",
       "      <td>1</td>\n",
       "      <td>no</td>\n",
       "      <td>southeast</td>\n",
       "      <td>1725.55230</td>\n",
       "    </tr>\n",
       "    <tr>\n",
       "      <th>2</th>\n",
       "      <td>28</td>\n",
       "      <td>male</td>\n",
       "      <td>33.000</td>\n",
       "      <td>Obese</td>\n",
       "      <td>3</td>\n",
       "      <td>no</td>\n",
       "      <td>southeast</td>\n",
       "      <td>4449.46200</td>\n",
       "    </tr>\n",
       "    <tr>\n",
       "      <th>3</th>\n",
       "      <td>33</td>\n",
       "      <td>male</td>\n",
       "      <td>22.705</td>\n",
       "      <td>Normal</td>\n",
       "      <td>0</td>\n",
       "      <td>no</td>\n",
       "      <td>northwest</td>\n",
       "      <td>21984.47061</td>\n",
       "    </tr>\n",
       "    <tr>\n",
       "      <th>4</th>\n",
       "      <td>32</td>\n",
       "      <td>male</td>\n",
       "      <td>28.880</td>\n",
       "      <td>Overweight</td>\n",
       "      <td>0</td>\n",
       "      <td>no</td>\n",
       "      <td>northwest</td>\n",
       "      <td>3866.85520</td>\n",
       "    </tr>\n",
       "  </tbody>\n",
       "</table>\n",
       "</div>"
      ],
      "text/plain": [
       "   age     sex     bmi bmi_category  children smoker     region      charges\n",
       "0   19  female  27.900   Overweight         0    yes  southwest  16884.92400\n",
       "1   18    male  33.770        Obese         1     no  southeast   1725.55230\n",
       "2   28    male  33.000        Obese         3     no  southeast   4449.46200\n",
       "3   33    male  22.705       Normal         0     no  northwest  21984.47061\n",
       "4   32    male  28.880   Overweight         0     no  northwest   3866.85520"
      ]
     },
     "execution_count": 5,
     "metadata": {},
     "output_type": "execute_result"
    }
   ],
   "source": [
    "# BMI categories: Underweight = <18.5, Normal weight = 18.5 - 24.9\n",
    "# BMI categories: Overweight = 25 - 29.9, Obesity = 30 or greater\n",
    "weights = [\"Underweight\", \"Normal\", \"Overweight\", \"Obese\"]\n",
    "bmi_categories = []\n",
    "for bmi in med_data[\"bmi\"]:\n",
    "    if bmi < 18.5:\n",
    "        bmi_categories.append(weights[0])\n",
    "    elif bmi > 30:\n",
    "        bmi_categories.append(weights[3])\n",
    "    elif bmi >= 25:\n",
    "        bmi_categories.append(weights[2])\n",
    "    else:\n",
    "        bmi_categories.append(weights[1])\n",
    "\n",
    "med_data.insert(3, \"bmi_category\", bmi_categories)\n",
    "med_data.head()"
   ]
  },
  {
   "cell_type": "code",
   "execution_count": 6,
   "id": "88dd833f",
   "metadata": {},
   "outputs": [
    {
     "name": "stdout",
     "output_type": "stream",
     "text": [
      "Peopel who are Underweight have average medical expense     8852.2\n",
      "There are 40 people who are Underweight.\n",
      "\n",
      "Peopel who are Normal have average medical expense     10218.52\n",
      "There are 472 people who are Normal.\n",
      "\n",
      "Peopel who are Overweight have average medical expense     11023.41\n",
      "There are 794 people who are Overweight.\n",
      "\n",
      "Peopel who are Obese have average medical expense     15573.47\n",
      "There are 1466 people who are Obese.\n",
      "\n"
     ]
    }
   ],
   "source": [
    "for weight in weights:\n",
    "    print(f'Peopel who are {weight} have average medical expense \\\n",
    "    {round(med_data[med_data[\"bmi_category\"] == weight].loc[:, \"charges\"].mean(), 2)}')\n",
    "    print(f'There are {med_data[med_data[\"bmi_category\"] == weight].loc[:, \"bmi_category\"].count()} people who are {weight}.')\n",
    "    print()"
   ]
  },
  {
   "cell_type": "markdown",
   "id": "9bea0f0d",
   "metadata": {},
   "source": [
    "If bmi_category is being used as a feature in the model, will need to solve the imbalance data issue. Otherwise, the predictive model could become really good at predicting medical expense for people who are obese and not so good for other people who are not obese."
   ]
  },
  {
   "cell_type": "markdown",
   "id": "e85e231d",
   "metadata": {},
   "source": [
    "#### Does age affect medical expense?"
   ]
  },
  {
   "cell_type": "code",
   "execution_count": 7,
   "id": "6721e7c0",
   "metadata": {},
   "outputs": [
    {
     "name": "stdout",
     "output_type": "stream",
     "text": [
      "Age column has 47 unique ages.\n",
      "The oldest persion is 64 and the youngest person is 18.\n"
     ]
    }
   ],
   "source": [
    "print(f'Age column has {len(med_data[\"age\"].value_counts())} unique ages.')\n",
    "print(f'The oldest persion is {med_data[\"age\"].max()} and the youngest person is {med_data[\"age\"].min()}.')\n"
   ]
  },
  {
   "cell_type": "markdown",
   "id": "fc495e25",
   "metadata": {},
   "source": [
    "Will add a categorical variable for age"
   ]
  },
  {
   "cell_type": "code",
   "execution_count": 8,
   "id": "d93b80e5",
   "metadata": {},
   "outputs": [
    {
     "data": {
      "text/html": [
       "<div>\n",
       "<style scoped>\n",
       "    .dataframe tbody tr th:only-of-type {\n",
       "        vertical-align: middle;\n",
       "    }\n",
       "\n",
       "    .dataframe tbody tr th {\n",
       "        vertical-align: top;\n",
       "    }\n",
       "\n",
       "    .dataframe thead th {\n",
       "        text-align: right;\n",
       "    }\n",
       "</style>\n",
       "<table border=\"1\" class=\"dataframe\">\n",
       "  <thead>\n",
       "    <tr style=\"text-align: right;\">\n",
       "      <th></th>\n",
       "      <th>age</th>\n",
       "      <th>age_category</th>\n",
       "      <th>sex</th>\n",
       "      <th>bmi</th>\n",
       "      <th>bmi_category</th>\n",
       "      <th>children</th>\n",
       "      <th>smoker</th>\n",
       "      <th>region</th>\n",
       "      <th>charges</th>\n",
       "    </tr>\n",
       "  </thead>\n",
       "  <tbody>\n",
       "    <tr>\n",
       "      <th>0</th>\n",
       "      <td>19</td>\n",
       "      <td>Young_Adult</td>\n",
       "      <td>female</td>\n",
       "      <td>27.900</td>\n",
       "      <td>Overweight</td>\n",
       "      <td>0</td>\n",
       "      <td>yes</td>\n",
       "      <td>southwest</td>\n",
       "      <td>16884.92400</td>\n",
       "    </tr>\n",
       "    <tr>\n",
       "      <th>1</th>\n",
       "      <td>18</td>\n",
       "      <td>Young_Adult</td>\n",
       "      <td>male</td>\n",
       "      <td>33.770</td>\n",
       "      <td>Obese</td>\n",
       "      <td>1</td>\n",
       "      <td>no</td>\n",
       "      <td>southeast</td>\n",
       "      <td>1725.55230</td>\n",
       "    </tr>\n",
       "    <tr>\n",
       "      <th>2</th>\n",
       "      <td>28</td>\n",
       "      <td>Adult</td>\n",
       "      <td>male</td>\n",
       "      <td>33.000</td>\n",
       "      <td>Obese</td>\n",
       "      <td>3</td>\n",
       "      <td>no</td>\n",
       "      <td>southeast</td>\n",
       "      <td>4449.46200</td>\n",
       "    </tr>\n",
       "    <tr>\n",
       "      <th>3</th>\n",
       "      <td>33</td>\n",
       "      <td>Adult</td>\n",
       "      <td>male</td>\n",
       "      <td>22.705</td>\n",
       "      <td>Normal</td>\n",
       "      <td>0</td>\n",
       "      <td>no</td>\n",
       "      <td>northwest</td>\n",
       "      <td>21984.47061</td>\n",
       "    </tr>\n",
       "    <tr>\n",
       "      <th>4</th>\n",
       "      <td>32</td>\n",
       "      <td>Adult</td>\n",
       "      <td>male</td>\n",
       "      <td>28.880</td>\n",
       "      <td>Overweight</td>\n",
       "      <td>0</td>\n",
       "      <td>no</td>\n",
       "      <td>northwest</td>\n",
       "      <td>3866.85520</td>\n",
       "    </tr>\n",
       "    <tr>\n",
       "      <th>...</th>\n",
       "      <td>...</td>\n",
       "      <td>...</td>\n",
       "      <td>...</td>\n",
       "      <td>...</td>\n",
       "      <td>...</td>\n",
       "      <td>...</td>\n",
       "      <td>...</td>\n",
       "      <td>...</td>\n",
       "      <td>...</td>\n",
       "    </tr>\n",
       "    <tr>\n",
       "      <th>2767</th>\n",
       "      <td>47</td>\n",
       "      <td>Middle_Age</td>\n",
       "      <td>female</td>\n",
       "      <td>45.320</td>\n",
       "      <td>Obese</td>\n",
       "      <td>1</td>\n",
       "      <td>no</td>\n",
       "      <td>southeast</td>\n",
       "      <td>8569.86180</td>\n",
       "    </tr>\n",
       "    <tr>\n",
       "      <th>2768</th>\n",
       "      <td>21</td>\n",
       "      <td>Young_Adult</td>\n",
       "      <td>female</td>\n",
       "      <td>34.600</td>\n",
       "      <td>Obese</td>\n",
       "      <td>0</td>\n",
       "      <td>no</td>\n",
       "      <td>southwest</td>\n",
       "      <td>2020.17700</td>\n",
       "    </tr>\n",
       "    <tr>\n",
       "      <th>2769</th>\n",
       "      <td>19</td>\n",
       "      <td>Young_Adult</td>\n",
       "      <td>male</td>\n",
       "      <td>26.030</td>\n",
       "      <td>Overweight</td>\n",
       "      <td>1</td>\n",
       "      <td>yes</td>\n",
       "      <td>northwest</td>\n",
       "      <td>16450.89470</td>\n",
       "    </tr>\n",
       "    <tr>\n",
       "      <th>2770</th>\n",
       "      <td>23</td>\n",
       "      <td>Young_Adult</td>\n",
       "      <td>male</td>\n",
       "      <td>18.715</td>\n",
       "      <td>Normal</td>\n",
       "      <td>0</td>\n",
       "      <td>no</td>\n",
       "      <td>northwest</td>\n",
       "      <td>21595.38229</td>\n",
       "    </tr>\n",
       "    <tr>\n",
       "      <th>2771</th>\n",
       "      <td>54</td>\n",
       "      <td>Middle_Age</td>\n",
       "      <td>male</td>\n",
       "      <td>31.600</td>\n",
       "      <td>Obese</td>\n",
       "      <td>0</td>\n",
       "      <td>no</td>\n",
       "      <td>southwest</td>\n",
       "      <td>9850.43200</td>\n",
       "    </tr>\n",
       "  </tbody>\n",
       "</table>\n",
       "<p>2772 rows × 9 columns</p>\n",
       "</div>"
      ],
      "text/plain": [
       "      age age_category     sex     bmi bmi_category  children smoker  \\\n",
       "0      19  Young_Adult  female  27.900   Overweight         0    yes   \n",
       "1      18  Young_Adult    male  33.770        Obese         1     no   \n",
       "2      28        Adult    male  33.000        Obese         3     no   \n",
       "3      33        Adult    male  22.705       Normal         0     no   \n",
       "4      32        Adult    male  28.880   Overweight         0     no   \n",
       "...   ...          ...     ...     ...          ...       ...    ...   \n",
       "2767   47   Middle_Age  female  45.320        Obese         1     no   \n",
       "2768   21  Young_Adult  female  34.600        Obese         0     no   \n",
       "2769   19  Young_Adult    male  26.030   Overweight         1    yes   \n",
       "2770   23  Young_Adult    male  18.715       Normal         0     no   \n",
       "2771   54   Middle_Age    male  31.600        Obese         0     no   \n",
       "\n",
       "         region      charges  \n",
       "0     southwest  16884.92400  \n",
       "1     southeast   1725.55230  \n",
       "2     southeast   4449.46200  \n",
       "3     northwest  21984.47061  \n",
       "4     northwest   3866.85520  \n",
       "...         ...          ...  \n",
       "2767  southeast   8569.86180  \n",
       "2768  southwest   2020.17700  \n",
       "2769  northwest  16450.89470  \n",
       "2770  northwest  21595.38229  \n",
       "2771  southwest   9850.43200  \n",
       "\n",
       "[2772 rows x 9 columns]"
      ]
     },
     "metadata": {},
     "output_type": "display_data"
    }
   ],
   "source": [
    "# Age 62 or over are considered senior citizen\n",
    "# Will consider Age 18 to 25 as young adult\n",
    "# Age 40 to 61 will be considered as middle age\n",
    "# Age 26 - 39 will be called adult\n",
    "# ya = young adult, s = senior, aup = adult upper bound\n",
    "\n",
    "age_categories = [\"Young_Adult\", \"Adult\", \"Middle_Age\", \"Senior\"]\n",
    "def add_age_col(df, column_name, ya=25, s=62, aup=39): \n",
    "    age_list = []\n",
    "\n",
    "    for age in df[column_name]:\n",
    "        if age <= ya:\n",
    "            age_list.append(age_categories[0])\n",
    "        elif age >= s:\n",
    "            age_list.append(age_categories[3])\n",
    "        elif age > ya and age <= aup:\n",
    "            age_list.append(age_categories[1])\n",
    "        else:\n",
    "            age_list.append(age_categories[2])\n",
    "        \n",
    "    if \"age_category\" in df.columns:\n",
    "        df[\"age_category\"] = age_list\n",
    "    else:\n",
    "        df.insert(1, \"age_category\", age_list)\n",
    "    return df\n",
    "\n",
    "display(add_age_col(med_data, \"age\"))"
   ]
  },
  {
   "cell_type": "code",
   "execution_count": 9,
   "id": "b31edca4",
   "metadata": {
    "scrolled": true
   },
   "outputs": [
    {
     "name": "stdout",
     "output_type": "stream",
     "text": [
      "There are 644 who are Young_Adult.\n",
      "The average medical expense for Young_Adult is 9027.09.\n",
      "\n",
      "There are 760 who are Adult.\n",
      "The average medical expense for Adult is 11126.37.\n",
      "\n",
      "There are 1228 who are Middle_Age.\n",
      "The average medical expense for Middle_Age is 15915.77.\n",
      "\n",
      "There are 140 who are Senior.\n",
      "The average medical expense for Senior is 21046.2.\n",
      "\n"
     ]
    }
   ],
   "source": [
    "def category_info(df, column_name, category_name):\n",
    "    for _ in category_name:\n",
    "        print(f'There are {df[df[column_name] == _].loc[:, column_name].count()} who are {_}.')\n",
    "        print(f'The average medical expense for {_} is {round(df[df[column_name] == _].loc[:,\"charges\"].mean(), 2)}.')\n",
    "        print()\n",
    "\n",
    "category_info(med_data, \"age_category\", age_categories)"
   ]
  },
  {
   "cell_type": "code",
   "execution_count": 10,
   "id": "b3515872",
   "metadata": {},
   "outputs": [
    {
     "name": "stdout",
     "output_type": "stream",
     "text": [
      "There are 644 who are Young_Adult.\n",
      "The average medical expense for Young_Adult is 9027.09.\n",
      "\n",
      "There are 760 who are Adult.\n",
      "The average medical expense for Adult is 11126.37.\n",
      "\n",
      "There are 1084 who are Middle_Age.\n",
      "The average medical expense for Middle_Age is 15268.57.\n",
      "\n",
      "There are 284 who are Senior.\n",
      "The average medical expense for Senior is 20915.17.\n",
      "\n"
     ]
    }
   ],
   "source": [
    "### Change age consider to be senior from 62 to 59 to see the effect\n",
    "med_copy = med_data.copy()\n",
    "add_age_col(med_copy, \"age\", s=59)\n",
    "category_info(med_copy, \"age_category\", age_categories)"
   ]
  },
  {
   "cell_type": "code",
   "execution_count": 11,
   "id": "86bd733b",
   "metadata": {},
   "outputs": [
    {
     "name": "stdout",
     "output_type": "stream",
     "text": [
      "The average medical expense for people with 0 children is     12317.92\n",
      "\n",
      "The average medical expense for people with 1 children is     12722.65\n",
      "\n",
      "The average medical expense for people with 3 children is     15304.07\n",
      "\n",
      "The average medical expense for people with 2 children is     15268.18\n",
      "\n",
      "The average medical expense for people with 5 children is     8706.04\n",
      "\n",
      "The average medical expense for people with 4 children is     13550.98\n",
      "\n"
     ]
    }
   ],
   "source": [
    "# def misc_info(df, column_name):\n",
    "children_num = list(med_data[\"children\"].unique())\n",
    "for num in children_num:\n",
    "    print(f'The average medical expense for people with {num} children is \\\n",
    "    {round(med_data[med_data[\"children\"] == num].loc[:, \"charges\"].mean(), 2)}')\n",
    "    print()"
   ]
  },
  {
   "cell_type": "code",
   "execution_count": 12,
   "id": "03d22577",
   "metadata": {},
   "outputs": [
    {
     "data": {
      "text/html": [
       "<div>\n",
       "<style scoped>\n",
       "    .dataframe tbody tr th:only-of-type {\n",
       "        vertical-align: middle;\n",
       "    }\n",
       "\n",
       "    .dataframe tbody tr th {\n",
       "        vertical-align: top;\n",
       "    }\n",
       "\n",
       "    .dataframe thead th {\n",
       "        text-align: right;\n",
       "    }\n",
       "</style>\n",
       "<table border=\"1\" class=\"dataframe\">\n",
       "  <thead>\n",
       "    <tr style=\"text-align: right;\">\n",
       "      <th></th>\n",
       "      <th>age</th>\n",
       "      <th>bmi</th>\n",
       "      <th>children</th>\n",
       "      <th>charges</th>\n",
       "    </tr>\n",
       "  </thead>\n",
       "  <tbody>\n",
       "    <tr>\n",
       "      <th>age</th>\n",
       "      <td>1.000000</td>\n",
       "      <td>0.113048</td>\n",
       "      <td>0.037574</td>\n",
       "      <td>0.298624</td>\n",
       "    </tr>\n",
       "    <tr>\n",
       "      <th>bmi</th>\n",
       "      <td>0.113048</td>\n",
       "      <td>1.000000</td>\n",
       "      <td>-0.001492</td>\n",
       "      <td>0.199846</td>\n",
       "    </tr>\n",
       "    <tr>\n",
       "      <th>children</th>\n",
       "      <td>0.037574</td>\n",
       "      <td>-0.001492</td>\n",
       "      <td>1.000000</td>\n",
       "      <td>0.066442</td>\n",
       "    </tr>\n",
       "    <tr>\n",
       "      <th>charges</th>\n",
       "      <td>0.298624</td>\n",
       "      <td>0.199846</td>\n",
       "      <td>0.066442</td>\n",
       "      <td>1.000000</td>\n",
       "    </tr>\n",
       "  </tbody>\n",
       "</table>\n",
       "</div>"
      ],
      "text/plain": [
       "               age       bmi  children   charges\n",
       "age       1.000000  0.113048  0.037574  0.298624\n",
       "bmi       0.113048  1.000000 -0.001492  0.199846\n",
       "children  0.037574 -0.001492  1.000000  0.066442\n",
       "charges   0.298624  0.199846  0.066442  1.000000"
      ]
     },
     "execution_count": 12,
     "metadata": {},
     "output_type": "execute_result"
    }
   ],
   "source": [
    "med_data.corr()"
   ]
  },
  {
   "cell_type": "code",
   "execution_count": 13,
   "id": "8d8e5e94",
   "metadata": {
    "scrolled": false
   },
   "outputs": [],
   "source": [
    "children_list =[]\n",
    "for child in med_data[\"children\"]:\n",
    "    if child > 0:\n",
    "        children_list.append(\"Yes\")\n",
    "    else:\n",
    "        children_list.append(\"No\")\n",
    "\n",
    "med_data.insert(6, \"Have_children?\", children_list)"
   ]
  },
  {
   "cell_type": "code",
   "execution_count": 14,
   "id": "d7de13c2",
   "metadata": {},
   "outputs": [
    {
     "name": "stdout",
     "output_type": "stream",
     "text": [
      "age            38.748222\n",
      "bmi            30.960633\n",
      "children        1.120910\n",
      "charges     14013.872721\n",
      "dtype: float64\n",
      "age            39.481698\n",
      "bmi            30.434473\n",
      "children        1.081991\n",
      "charges     12486.831977\n",
      "dtype: float64\n"
     ]
    }
   ],
   "source": [
    "print(med_data[med_data[\"sex\"] == \"male\"].mean())\n",
    "print(med_data[med_data[\"sex\"] == \"female\"].mean())"
   ]
  },
  {
   "cell_type": "code",
   "execution_count": 15,
   "id": "c85d80ba",
   "metadata": {},
   "outputs": [
    {
     "name": "stdout",
     "output_type": "stream",
     "text": [
      "age            38.460993\n",
      "bmi            30.840656\n",
      "children        1.117021\n",
      "charges     32223.139764\n",
      "dtype: float64\n",
      "\n",
      "age           39.275362\n",
      "bmi           30.665765\n",
      "children       1.097826\n",
      "charges     8417.874411\n",
      "dtype: float64\n",
      "\n",
      "There are 564 smoker in this data.\n",
      "\n",
      "There are 2208 non-smoker in this data.\n"
     ]
    }
   ],
   "source": [
    "print(med_data[med_data[\"smoker\"] == \"yes\"].mean())\n",
    "print()\n",
    "print(med_data[med_data[\"smoker\"] == \"no\"].mean())\n",
    "print()\n",
    "print(f'There are {len(med_data[med_data[\"smoker\"] == \"yes\"])} smoker in this data.')\n",
    "print()\n",
    "print(f'There are {len(med_data[med_data[\"smoker\"] == \"no\"])} non-smoker in this data.')"
   ]
  },
  {
   "cell_type": "markdown",
   "id": "9c79878a",
   "metadata": {},
   "source": [
    "## 2. How well can machine learning models predict medical expenses?"
   ]
  },
  {
   "cell_type": "code",
   "execution_count": 16,
   "id": "c3260b3f",
   "metadata": {},
   "outputs": [
    {
     "data": {
      "text/html": [
       "<div>\n",
       "<style scoped>\n",
       "    .dataframe tbody tr th:only-of-type {\n",
       "        vertical-align: middle;\n",
       "    }\n",
       "\n",
       "    .dataframe tbody tr th {\n",
       "        vertical-align: top;\n",
       "    }\n",
       "\n",
       "    .dataframe thead th {\n",
       "        text-align: right;\n",
       "    }\n",
       "</style>\n",
       "<table border=\"1\" class=\"dataframe\">\n",
       "  <thead>\n",
       "    <tr style=\"text-align: right;\">\n",
       "      <th></th>\n",
       "      <th>age</th>\n",
       "      <th>age_category</th>\n",
       "      <th>sex</th>\n",
       "      <th>bmi</th>\n",
       "      <th>bmi_category</th>\n",
       "      <th>children</th>\n",
       "      <th>Have_children?</th>\n",
       "      <th>smoker</th>\n",
       "      <th>region</th>\n",
       "      <th>charges</th>\n",
       "    </tr>\n",
       "  </thead>\n",
       "  <tbody>\n",
       "    <tr>\n",
       "      <th>0</th>\n",
       "      <td>19</td>\n",
       "      <td>Young_Adult</td>\n",
       "      <td>female</td>\n",
       "      <td>27.900</td>\n",
       "      <td>Overweight</td>\n",
       "      <td>0</td>\n",
       "      <td>No</td>\n",
       "      <td>yes</td>\n",
       "      <td>southwest</td>\n",
       "      <td>16884.92400</td>\n",
       "    </tr>\n",
       "    <tr>\n",
       "      <th>1</th>\n",
       "      <td>18</td>\n",
       "      <td>Young_Adult</td>\n",
       "      <td>male</td>\n",
       "      <td>33.770</td>\n",
       "      <td>Obese</td>\n",
       "      <td>1</td>\n",
       "      <td>Yes</td>\n",
       "      <td>no</td>\n",
       "      <td>southeast</td>\n",
       "      <td>1725.55230</td>\n",
       "    </tr>\n",
       "    <tr>\n",
       "      <th>2</th>\n",
       "      <td>28</td>\n",
       "      <td>Adult</td>\n",
       "      <td>male</td>\n",
       "      <td>33.000</td>\n",
       "      <td>Obese</td>\n",
       "      <td>3</td>\n",
       "      <td>Yes</td>\n",
       "      <td>no</td>\n",
       "      <td>southeast</td>\n",
       "      <td>4449.46200</td>\n",
       "    </tr>\n",
       "    <tr>\n",
       "      <th>3</th>\n",
       "      <td>33</td>\n",
       "      <td>Adult</td>\n",
       "      <td>male</td>\n",
       "      <td>22.705</td>\n",
       "      <td>Normal</td>\n",
       "      <td>0</td>\n",
       "      <td>No</td>\n",
       "      <td>no</td>\n",
       "      <td>northwest</td>\n",
       "      <td>21984.47061</td>\n",
       "    </tr>\n",
       "    <tr>\n",
       "      <th>4</th>\n",
       "      <td>32</td>\n",
       "      <td>Adult</td>\n",
       "      <td>male</td>\n",
       "      <td>28.880</td>\n",
       "      <td>Overweight</td>\n",
       "      <td>0</td>\n",
       "      <td>No</td>\n",
       "      <td>no</td>\n",
       "      <td>northwest</td>\n",
       "      <td>3866.85520</td>\n",
       "    </tr>\n",
       "  </tbody>\n",
       "</table>\n",
       "</div>"
      ],
      "text/plain": [
       "   age age_category     sex     bmi bmi_category  children Have_children?  \\\n",
       "0   19  Young_Adult  female  27.900   Overweight         0             No   \n",
       "1   18  Young_Adult    male  33.770        Obese         1            Yes   \n",
       "2   28        Adult    male  33.000        Obese         3            Yes   \n",
       "3   33        Adult    male  22.705       Normal         0             No   \n",
       "4   32        Adult    male  28.880   Overweight         0             No   \n",
       "\n",
       "  smoker     region      charges  \n",
       "0    yes  southwest  16884.92400  \n",
       "1     no  southeast   1725.55230  \n",
       "2     no  southeast   4449.46200  \n",
       "3     no  northwest  21984.47061  \n",
       "4     no  northwest   3866.85520  "
      ]
     },
     "execution_count": 16,
     "metadata": {},
     "output_type": "execute_result"
    }
   ],
   "source": [
    "med_data.head()"
   ]
  },
  {
   "cell_type": "code",
   "execution_count": 17,
   "id": "ef240978",
   "metadata": {},
   "outputs": [
    {
     "name": "stdout",
     "output_type": "stream",
     "text": [
      "972 972\n"
     ]
    }
   ],
   "source": [
    "# Will drop the variables age, bmi, region, and charges\n",
    "from sklearn.preprocessing import OneHotEncoder\n",
    "from sklearn.compose import make_column_transformer\n",
    "\n",
    "condense_data = med_data.drop(columns=[\"age\", \"bmi\", \"children\",\"region\", \"charges\"])\n",
    "variables_to_encode = condense_data.columns[condense_data.dtypes == object].tolist()\n",
    "cols_trans = make_column_transformer((OneHotEncoder(), variables_to_encode), remainder=\"passthrough\")\n",
    "# The purpose of cols_trans is to handles the categorical variables by transforming them into dummy variables without affecting\n",
    "# numeric variables\n",
    "\n",
    "x_train = condense_data.iloc[:1800, :]\n",
    "x_test = condense_data.iloc[1800:, :]\n",
    "\n",
    "# Will round charges to the nearest 100s because predictions are just educated guesses\n",
    "target_train = round(med_data[\"charges\"][:1800], -2)\n",
    "target_test = round(med_data[\"charges\"][1800:], -2)\n",
    "\n",
    "print(len(x_test), len(target_test))"
   ]
  },
  {
   "cell_type": "code",
   "execution_count": 18,
   "id": "31c9e75f",
   "metadata": {
    "scrolled": true
   },
   "outputs": [
    {
     "name": "stdout",
     "output_type": "stream",
     "text": [
      "22555432.098765433\n"
     ]
    },
    {
     "data": {
      "text/plain": [
       "22555432.098765433"
      ]
     },
     "execution_count": 18,
     "metadata": {},
     "output_type": "execute_result"
    }
   ],
   "source": [
    "from sklearn.pipeline import make_pipeline\n",
    "rf_regressor = RandomForestRegressor(n_estimators=500,\n",
    "                                     min_samples_leaf=10,\n",
    "                                     oob_score=True,\n",
    "                                     random_state=0)\n",
    "\n",
    "pipe = make_pipeline(cols_trans, rf_regressor)\n",
    "pipe.fit(x_train, target_train)\n",
    "\n",
    "# line below is to make prediction round to the nearest tenth\n",
    "y_pred = np.round(pipe.predict(x_test), -2)\n",
    "\n",
    "# Merging the actual medical charges, the predicted medical charges, and adding an difference squared column\n",
    "charge = pd.DataFrame(data=y_pred, columns=[\"predicted_charge\"])\n",
    "charge[\"Actual_charge\"] = target_test.reset_index(drop=True)\n",
    "charge[\"difference_squared\"] = [x for x in (charge[\"Actual_charge\"] - charge[\"predicted_charge\"]) ** 2]\n",
    "mean_sqrt_error = charge[\"difference_squared\"].sum() / len(charge[\"difference_squared\"])\n",
    "print(mean_sqrt_error)\n",
    "\n",
    "# lines below are to check that I have calculated mean square error correctly.\n",
    "from sklearn.metrics import mean_squared_error\n",
    "mean_squared_error(target_test, y_pred)"
   ]
  },
  {
   "cell_type": "markdown",
   "id": "336f3c31",
   "metadata": {},
   "source": [
    "## 3. How can machin learning models be used to improve the efficiency and profiability of health insurance companies?"
   ]
  },
  {
   "cell_type": "code",
   "execution_count": null,
   "id": "4bb2b21f",
   "metadata": {},
   "outputs": [],
   "source": []
  },
  {
   "cell_type": "code",
   "execution_count": null,
   "id": "b2aba73d",
   "metadata": {},
   "outputs": [],
   "source": []
  },
  {
   "cell_type": "code",
   "execution_count": null,
   "id": "cb89843d",
   "metadata": {},
   "outputs": [],
   "source": []
  }
 ],
 "metadata": {
  "kernelspec": {
   "display_name": "Python 3",
   "language": "python",
   "name": "python3"
  },
  "language_info": {
   "codemirror_mode": {
    "name": "ipython",
    "version": 3
   },
   "file_extension": ".py",
   "mimetype": "text/x-python",
   "name": "python",
   "nbconvert_exporter": "python",
   "pygments_lexer": "ipython3",
   "version": "3.8.8"
  }
 },
 "nbformat": 4,
 "nbformat_minor": 5
}
