{
 "cells": [
  {
   "cell_type": "code",
   "execution_count": 2,
   "id": "a90a61a1",
   "metadata": {
    "scrolled": true
   },
   "outputs": [
    {
     "data": {
      "text/html": [
       "<div>\n",
       "<style scoped>\n",
       "    .dataframe tbody tr th:only-of-type {\n",
       "        vertical-align: middle;\n",
       "    }\n",
       "\n",
       "    .dataframe tbody tr th {\n",
       "        vertical-align: top;\n",
       "    }\n",
       "\n",
       "    .dataframe thead th {\n",
       "        text-align: right;\n",
       "    }\n",
       "</style>\n",
       "<table border=\"1\" class=\"dataframe\">\n",
       "  <thead>\n",
       "    <tr style=\"text-align: right;\">\n",
       "      <th></th>\n",
       "      <th>age</th>\n",
       "      <th>workclass</th>\n",
       "      <th>fnlwgt</th>\n",
       "      <th>education</th>\n",
       "      <th>education-num</th>\n",
       "      <th>marital-status</th>\n",
       "      <th>occupation</th>\n",
       "      <th>relationship</th>\n",
       "      <th>race</th>\n",
       "      <th>sex</th>\n",
       "      <th>capital-gain</th>\n",
       "      <th>capital-loss</th>\n",
       "      <th>hours-per-week</th>\n",
       "      <th>native-country</th>\n",
       "      <th>salary</th>\n",
       "    </tr>\n",
       "  </thead>\n",
       "  <tbody>\n",
       "    <tr>\n",
       "      <th>0</th>\n",
       "      <td>39</td>\n",
       "      <td>State-gov</td>\n",
       "      <td>77516</td>\n",
       "      <td>Bachelors</td>\n",
       "      <td>13</td>\n",
       "      <td>Never-married</td>\n",
       "      <td>Adm-clerical</td>\n",
       "      <td>Not-in-family</td>\n",
       "      <td>White</td>\n",
       "      <td>Male</td>\n",
       "      <td>2174</td>\n",
       "      <td>0</td>\n",
       "      <td>40</td>\n",
       "      <td>United-States</td>\n",
       "      <td>&lt;=50K</td>\n",
       "    </tr>\n",
       "    <tr>\n",
       "      <th>1</th>\n",
       "      <td>50</td>\n",
       "      <td>Self-emp-not-inc</td>\n",
       "      <td>83311</td>\n",
       "      <td>Bachelors</td>\n",
       "      <td>13</td>\n",
       "      <td>Married-civ-spouse</td>\n",
       "      <td>Exec-managerial</td>\n",
       "      <td>Husband</td>\n",
       "      <td>White</td>\n",
       "      <td>Male</td>\n",
       "      <td>0</td>\n",
       "      <td>0</td>\n",
       "      <td>13</td>\n",
       "      <td>United-States</td>\n",
       "      <td>&lt;=50K</td>\n",
       "    </tr>\n",
       "    <tr>\n",
       "      <th>2</th>\n",
       "      <td>38</td>\n",
       "      <td>Private</td>\n",
       "      <td>215646</td>\n",
       "      <td>HS-grad</td>\n",
       "      <td>9</td>\n",
       "      <td>Divorced</td>\n",
       "      <td>Handlers-cleaners</td>\n",
       "      <td>Not-in-family</td>\n",
       "      <td>White</td>\n",
       "      <td>Male</td>\n",
       "      <td>0</td>\n",
       "      <td>0</td>\n",
       "      <td>40</td>\n",
       "      <td>United-States</td>\n",
       "      <td>&lt;=50K</td>\n",
       "    </tr>\n",
       "    <tr>\n",
       "      <th>3</th>\n",
       "      <td>53</td>\n",
       "      <td>Private</td>\n",
       "      <td>234721</td>\n",
       "      <td>11th</td>\n",
       "      <td>7</td>\n",
       "      <td>Married-civ-spouse</td>\n",
       "      <td>Handlers-cleaners</td>\n",
       "      <td>Husband</td>\n",
       "      <td>Black</td>\n",
       "      <td>Male</td>\n",
       "      <td>0</td>\n",
       "      <td>0</td>\n",
       "      <td>40</td>\n",
       "      <td>United-States</td>\n",
       "      <td>&lt;=50K</td>\n",
       "    </tr>\n",
       "    <tr>\n",
       "      <th>4</th>\n",
       "      <td>28</td>\n",
       "      <td>Private</td>\n",
       "      <td>338409</td>\n",
       "      <td>Bachelors</td>\n",
       "      <td>13</td>\n",
       "      <td>Married-civ-spouse</td>\n",
       "      <td>Prof-specialty</td>\n",
       "      <td>Wife</td>\n",
       "      <td>Black</td>\n",
       "      <td>Female</td>\n",
       "      <td>0</td>\n",
       "      <td>0</td>\n",
       "      <td>40</td>\n",
       "      <td>Cuba</td>\n",
       "      <td>&lt;=50K</td>\n",
       "    </tr>\n",
       "  </tbody>\n",
       "</table>\n",
       "</div>"
      ],
      "text/plain": [
       "   age         workclass  fnlwgt  education  education-num  \\\n",
       "0   39         State-gov   77516  Bachelors             13   \n",
       "1   50  Self-emp-not-inc   83311  Bachelors             13   \n",
       "2   38           Private  215646    HS-grad              9   \n",
       "3   53           Private  234721       11th              7   \n",
       "4   28           Private  338409  Bachelors             13   \n",
       "\n",
       "       marital-status         occupation   relationship   race     sex  \\\n",
       "0       Never-married       Adm-clerical  Not-in-family  White    Male   \n",
       "1  Married-civ-spouse    Exec-managerial        Husband  White    Male   \n",
       "2            Divorced  Handlers-cleaners  Not-in-family  White    Male   \n",
       "3  Married-civ-spouse  Handlers-cleaners        Husband  Black    Male   \n",
       "4  Married-civ-spouse     Prof-specialty           Wife  Black  Female   \n",
       "\n",
       "   capital-gain  capital-loss  hours-per-week native-country salary  \n",
       "0          2174             0              40  United-States  <=50K  \n",
       "1             0             0              13  United-States  <=50K  \n",
       "2             0             0              40  United-States  <=50K  \n",
       "3             0             0              40  United-States  <=50K  \n",
       "4             0             0              40           Cuba  <=50K  "
      ]
     },
     "execution_count": 2,
     "metadata": {},
     "output_type": "execute_result"
    }
   ],
   "source": [
    "import pandas as pd\n",
    "\n",
    "adult_df = pd.read_csv(r\"C:\\Dataset\\adult.data.csv\")\n",
    "adult_df.head()"
   ]
  },
  {
   "cell_type": "markdown",
   "id": "c6bcfa92",
   "metadata": {},
   "source": [
    "### Questions to Answers:\n",
    "        1. How many people of each race are represented in this dataset? (Should be a pandas series with race names\n",
    "            as the index labels)\n",
    "        2. What is the average age of men?\n",
    "        3. What is the percentage of people who have a Bachelor's degree?\n",
    "        4. What percentage of people with advanced education (Bachelors, Masters, or Doctorate) make more than 50K?\n",
    "        5. What percentage of people without advanced education make more than 50K?\n",
    "        6. What is the minimum number of hours a person works per week?\n",
    "        7. What percentage of the people who work the minimum number of hours per week have a salary of more than 50K?\n",
    "        8. What country has the highest percentage of people that earn >50K and what is that percentage?\n",
    "        9. Identify the most popular occupation for those who earn >50K in India"
   ]
  },
  {
   "cell_type": "markdown",
   "id": "1220eceb",
   "metadata": {},
   "source": [
    "##### How many people of each race are represented in this dataset?"
   ]
  },
  {
   "cell_type": "code",
   "execution_count": 3,
   "id": "6868240c",
   "metadata": {},
   "outputs": [
    {
     "data": {
      "text/plain": [
       "White                 27816\n",
       "Black                  3124\n",
       "Asian-Pac-Islander     1039\n",
       "Amer-Indian-Eskimo      311\n",
       "Other                   271\n",
       "Name: race, dtype: int64"
      ]
     },
     "execution_count": 3,
     "metadata": {},
     "output_type": "execute_result"
    }
   ],
   "source": [
    "race_count = adult_df[\"race\"].value_counts()\n",
    "race_count"
   ]
  },
  {
   "cell_type": "markdown",
   "id": "2a47b97c",
   "metadata": {},
   "source": [
    "##### What is the average age of men?"
   ]
  },
  {
   "cell_type": "code",
   "execution_count": 4,
   "id": "c25ea964",
   "metadata": {},
   "outputs": [
    {
     "name": "stdout",
     "output_type": "stream",
     "text": [
      "The averge age of men is 39.43.\n"
     ]
    }
   ],
   "source": [
    "average_age_men = adult_df[adult_df[\"sex\"] == \"Male\"][\"age\"].mean()\n",
    "print(f'The averge age of men is {round(average_age_men, 2)}.')"
   ]
  },
  {
   "cell_type": "markdown",
   "id": "731a52f0",
   "metadata": {},
   "source": [
    "##### What is the percentage of people who have bachelor's degree?"
   ]
  },
  {
   "cell_type": "code",
   "execution_count": 5,
   "id": "30feb6c9",
   "metadata": {},
   "outputs": [
    {
     "name": "stdout",
     "output_type": "stream",
     "text": [
      "16.45% of people have bacherlor degree.\n"
     ]
    }
   ],
   "source": [
    "percentage_bachelor = (len(adult_df[adult_df[\"education\"] == \"Bachelors\"]) / len(adult_df)) * 100\n",
    "print(f'{round(percentage_bachelor, 2)}% of people have bacherlor degree.')"
   ]
  },
  {
   "cell_type": "markdown",
   "id": "572e602b",
   "metadata": {},
   "source": [
    "##### What percentage of people with advanced education (Bachelors, Masters, or Doctorate) make more than 50K?"
   ]
  },
  {
   "cell_type": "code",
   "execution_count": 6,
   "id": "acff049d",
   "metadata": {},
   "outputs": [
    {
     "name": "stdout",
     "output_type": "stream",
     "text": [
      "46.54% of people with advanced education make more than 50K.\n"
     ]
    }
   ],
   "source": [
    "AEs = [\"Bachelors\", \"Masters\", \"Doctorate\"]\n",
    "sum_AE = 0\n",
    "sum_AE_over_50k = 0\n",
    "for AE in AEs:\n",
    "    sum_AE += len(adult_df[adult_df[\"education\"] == AE])\n",
    "    sum_AE_over_50k += len(adult_df[(adult_df.education == AE) & (adult_df.salary == \">50K\")])\n",
    "percentage_with_AE_over_50k = (sum_AE_over_50k / sum_AE) * 100\n",
    "print(f'{round(percentage_with_AE_over_50k, 2)}% of people with advanced education make more than 50K.')"
   ]
  },
  {
   "cell_type": "markdown",
   "id": "deea2c04",
   "metadata": {},
   "source": [
    "##### What percentage of people without advanced education make more than 50K?"
   ]
  },
  {
   "cell_type": "code",
   "execution_count": 7,
   "id": "e9862422",
   "metadata": {
    "scrolled": true
   },
   "outputs": [
    {
     "name": "stdout",
     "output_type": "stream",
     "text": [
      "55.54% of people without advanced education make more than 50K.\n"
     ]
    }
   ],
   "source": [
    "over_50k = len(adult_df[adult_df.salary == \">50K\"])\n",
    "over_50k_without_AE = over_50k - sum_AE_over_50k\n",
    "print(f'{round((over_50k_without_AE / over_50k) * 100, 2)}% of people without advanced education make more than 50K.')"
   ]
  },
  {
   "cell_type": "markdown",
   "id": "ad5aa273",
   "metadata": {},
   "source": [
    "##### What is the minimum number of hours a person works per week?"
   ]
  },
  {
   "cell_type": "code",
   "execution_count": 8,
   "id": "82303540",
   "metadata": {},
   "outputs": [
    {
     "name": "stdout",
     "output_type": "stream",
     "text": [
      "1\n"
     ]
    }
   ],
   "source": [
    "min_hour = adult_df[\"hours-per-week\"].min()\n",
    "print(min_hour)"
   ]
  },
  {
   "cell_type": "markdown",
   "id": "0868b4a1",
   "metadata": {},
   "source": [
    "##### What percentage of the people who work the minimum number of hours per week have a salary of more than 50K?"
   ]
  },
  {
   "cell_type": "code",
   "execution_count": 9,
   "id": "afb88bc4",
   "metadata": {},
   "outputs": [
    {
     "name": "stdout",
     "output_type": "stream",
     "text": [
      "0.0% of the people who work the minimum number of hours per week have a salary of more than 50k.\n"
     ]
    }
   ],
   "source": [
    "nums_min_hour = len(adult_df[adult_df[\"hours-per-week\"] == 1])\n",
    "nums_min_hour_over_50k = len(adult_df[(adult_df[\"hours-per-week\"] == 1) & (adult_df[\"salary\"] == \">50k\")])\n",
    "print(f'{round((nums_min_hour_over_50k / nums_min_hour) * 100, 2)}% of the people who work the minimum number of hours per \\\n",
    "week have a salary of more than 50k.')"
   ]
  },
  {
   "cell_type": "markdown",
   "id": "29573ff7",
   "metadata": {},
   "source": [
    "##### What country has the highest percentage of people that earn >50K and what is that percentage?"
   ]
  },
  {
   "cell_type": "code",
   "execution_count": 19,
   "id": "84139a5b",
   "metadata": {
    "scrolled": true
   },
   "outputs": [
    {
     "name": "stdout",
     "output_type": "stream",
     "text": [
      "United-States has the highest percentage of people that earn >50K.\n",
      "It compries 91.46% of people that earn >50K.\n"
     ]
    }
   ],
   "source": [
    "countries_over_50k = adult_df[adult_df[\"salary\"] == \">50K\"][\"native-country\"].value_counts()\n",
    "print(f'{countries_over_50k.index[0]} has the highest percentage of people that earn >50K.')\n",
    "print(f'It compries {round((countries_over_50k[0] / over_50k) * 100, 2)}% of people that earn >50K.')"
   ]
  },
  {
   "cell_type": "markdown",
   "id": "61afdd05",
   "metadata": {},
   "source": [
    "##### Identify the most popular occupation for those who earn >50K in India"
   ]
  },
  {
   "cell_type": "code",
   "execution_count": 16,
   "id": "56b2f9d8",
   "metadata": {},
   "outputs": [
    {
     "name": "stdout",
     "output_type": "stream",
     "text": [
      "Prof-specialty\n"
     ]
    }
   ],
   "source": [
    "over_50k_India = adult_df[(adult_df[\"salary\"] == \">50K\") & (adult_df[\"native-country\"] == \"India\")]\n",
    "occupation = over_50k_India[\"occupation\"].value_counts()\n",
    "print(occupation.index[0])"
   ]
  },
  {
   "cell_type": "code",
   "execution_count": null,
   "id": "cf762044",
   "metadata": {},
   "outputs": [],
   "source": []
  }
 ],
 "metadata": {
  "kernelspec": {
   "display_name": "Python 3",
   "language": "python",
   "name": "python3"
  },
  "language_info": {
   "codemirror_mode": {
    "name": "ipython",
    "version": 3
   },
   "file_extension": ".py",
   "mimetype": "text/x-python",
   "name": "python",
   "nbconvert_exporter": "python",
   "pygments_lexer": "ipython3",
   "version": "3.8.8"
  }
 },
 "nbformat": 4,
 "nbformat_minor": 5
}
