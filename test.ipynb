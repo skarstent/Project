{
 "cells": [
  {
   "cell_type": "code",
   "execution_count": 1,
   "metadata": {},
   "outputs": [],
   "source": [
    "import pandas as pd\n",
    "import numpy as np\n",
    "import matplotlib.pyplot as plt"
   ]
  },
  {
   "cell_type": "code",
   "execution_count": 2,
   "metadata": {},
   "outputs": [
    {
     "data": {
      "text/html": [
       "<div>\n",
       "<style scoped>\n",
       "    .dataframe tbody tr th:only-of-type {\n",
       "        vertical-align: middle;\n",
       "    }\n",
       "\n",
       "    .dataframe tbody tr th {\n",
       "        vertical-align: top;\n",
       "    }\n",
       "\n",
       "    .dataframe thead th {\n",
       "        text-align: right;\n",
       "    }\n",
       "</style>\n",
       "<table border=\"1\" class=\"dataframe\">\n",
       "  <thead>\n",
       "    <tr style=\"text-align: right;\">\n",
       "      <th></th>\n",
       "      <th>Entity</th>\n",
       "      <th>Code</th>\n",
       "      <th>Year</th>\n",
       "      <th>Electricity from coal (TWh)</th>\n",
       "      <th>Electricity from gas (TWh)</th>\n",
       "      <th>Electricity from hydro (TWh)</th>\n",
       "      <th>Electricity from other renewables (TWh)</th>\n",
       "      <th>Electricity from solar (TWh)</th>\n",
       "      <th>Electricity from oil (TWh)</th>\n",
       "      <th>Electricity from wind (TWh)</th>\n",
       "      <th>Electricity from nuclear (TWh)</th>\n",
       "    </tr>\n",
       "  </thead>\n",
       "  <tbody>\n",
       "    <tr>\n",
       "      <th>0</th>\n",
       "      <td>Afghanistan</td>\n",
       "      <td>AFG</td>\n",
       "      <td>2000</td>\n",
       "      <td>0.0</td>\n",
       "      <td>0.155</td>\n",
       "      <td>0.312</td>\n",
       "      <td>0.0</td>\n",
       "      <td>0.0</td>\n",
       "      <td>0.0</td>\n",
       "      <td>0.0</td>\n",
       "      <td>0.0</td>\n",
       "    </tr>\n",
       "    <tr>\n",
       "      <th>1</th>\n",
       "      <td>Afghanistan</td>\n",
       "      <td>AFG</td>\n",
       "      <td>2001</td>\n",
       "      <td>0.0</td>\n",
       "      <td>0.094</td>\n",
       "      <td>0.498</td>\n",
       "      <td>0.0</td>\n",
       "      <td>0.0</td>\n",
       "      <td>0.0</td>\n",
       "      <td>0.0</td>\n",
       "      <td>0.0</td>\n",
       "    </tr>\n",
       "    <tr>\n",
       "      <th>2</th>\n",
       "      <td>Afghanistan</td>\n",
       "      <td>AFG</td>\n",
       "      <td>2002</td>\n",
       "      <td>0.0</td>\n",
       "      <td>0.132</td>\n",
       "      <td>0.555</td>\n",
       "      <td>0.0</td>\n",
       "      <td>0.0</td>\n",
       "      <td>0.0</td>\n",
       "      <td>0.0</td>\n",
       "      <td>0.0</td>\n",
       "    </tr>\n",
       "    <tr>\n",
       "      <th>3</th>\n",
       "      <td>Afghanistan</td>\n",
       "      <td>AFG</td>\n",
       "      <td>2003</td>\n",
       "      <td>0.0</td>\n",
       "      <td>0.309</td>\n",
       "      <td>0.630</td>\n",
       "      <td>0.0</td>\n",
       "      <td>0.0</td>\n",
       "      <td>0.0</td>\n",
       "      <td>0.0</td>\n",
       "      <td>0.0</td>\n",
       "    </tr>\n",
       "    <tr>\n",
       "      <th>4</th>\n",
       "      <td>Afghanistan</td>\n",
       "      <td>AFG</td>\n",
       "      <td>2004</td>\n",
       "      <td>0.0</td>\n",
       "      <td>0.329</td>\n",
       "      <td>0.565</td>\n",
       "      <td>0.0</td>\n",
       "      <td>0.0</td>\n",
       "      <td>0.0</td>\n",
       "      <td>0.0</td>\n",
       "      <td>0.0</td>\n",
       "    </tr>\n",
       "  </tbody>\n",
       "</table>\n",
       "</div>"
      ],
      "text/plain": [
       "        Entity Code  Year  Electricity from coal (TWh)  \\\n",
       "0  Afghanistan  AFG  2000                          0.0   \n",
       "1  Afghanistan  AFG  2001                          0.0   \n",
       "2  Afghanistan  AFG  2002                          0.0   \n",
       "3  Afghanistan  AFG  2003                          0.0   \n",
       "4  Afghanistan  AFG  2004                          0.0   \n",
       "\n",
       "   Electricity from gas (TWh)  Electricity from hydro (TWh)  \\\n",
       "0                       0.155                         0.312   \n",
       "1                       0.094                         0.498   \n",
       "2                       0.132                         0.555   \n",
       "3                       0.309                         0.630   \n",
       "4                       0.329                         0.565   \n",
       "\n",
       "   Electricity from other renewables (TWh)  Electricity from solar (TWh)  \\\n",
       "0                                      0.0                           0.0   \n",
       "1                                      0.0                           0.0   \n",
       "2                                      0.0                           0.0   \n",
       "3                                      0.0                           0.0   \n",
       "4                                      0.0                           0.0   \n",
       "\n",
       "   Electricity from oil (TWh)  Electricity from wind (TWh)  \\\n",
       "0                         0.0                          0.0   \n",
       "1                         0.0                          0.0   \n",
       "2                         0.0                          0.0   \n",
       "3                         0.0                          0.0   \n",
       "4                         0.0                          0.0   \n",
       "\n",
       "   Electricity from nuclear (TWh)  \n",
       "0                             0.0  \n",
       "1                             0.0  \n",
       "2                             0.0  \n",
       "3                             0.0  \n",
       "4                             0.0  "
      ]
     },
     "execution_count": 2,
     "metadata": {},
     "output_type": "execute_result"
    }
   ],
   "source": [
    "electricity_production = pd.read_csv(r\"C:\\Users\\Tyler\\Downloads\\Electricity_Production_By_Source.csv\")\n",
    "electricity_production.head()"
   ]
  },
  {
   "cell_type": "code",
   "execution_count": 3,
   "metadata": {},
   "outputs": [
    {
     "name": "stdout",
     "output_type": "stream",
     "text": [
      "<class 'pandas.core.frame.DataFrame'>\n",
      "RangeIndex: 6241 entries, 0 to 6240\n",
      "Data columns (total 11 columns):\n",
      " #   Column                                   Non-Null Count  Dtype  \n",
      "---  ------                                   --------------  -----  \n",
      " 0   Entity                                   6241 non-null   object \n",
      " 1   Code                                     5474 non-null   object \n",
      " 2   Year                                     6241 non-null   int64  \n",
      " 3   Electricity from coal (TWh)              5221 non-null   float64\n",
      " 4   Electricity from gas (TWh)               5221 non-null   float64\n",
      " 5   Electricity from hydro (TWh)             6241 non-null   float64\n",
      " 6   Electricity from other renewables (TWh)  6206 non-null   float64\n",
      " 7   Electricity from solar (TWh)             6241 non-null   float64\n",
      " 8   Electricity from oil (TWh)               5221 non-null   float64\n",
      " 9   Electricity from wind (TWh)              6241 non-null   float64\n",
      " 10  Electricity from nuclear (TWh)           6241 non-null   float64\n",
      "dtypes: float64(8), int64(1), object(2)\n",
      "memory usage: 536.5+ KB\n"
     ]
    }
   ],
   "source": [
    "# electricity_production.info()\n",
    "electricity_production['Year'].astype('int')\n",
    "electricity_production.info()"
   ]
  },
  {
   "cell_type": "code",
   "execution_count": 4,
   "metadata": {},
   "outputs": [
    {
     "name": "stdout",
     "output_type": "stream",
     "text": [
      "<class 'pandas.core.frame.DataFrame'>\n",
      "RangeIndex: 6241 entries, 0 to 6240\n",
      "Data columns (total 11 columns):\n",
      " #   Column                                   Non-Null Count  Dtype  \n",
      "---  ------                                   --------------  -----  \n",
      " 0   Entity                                   6241 non-null   object \n",
      " 1   Code                                     5474 non-null   object \n",
      " 2   Year                                     6241 non-null   int64  \n",
      " 3   Electricity from coal (TWh)              6241 non-null   float64\n",
      " 4   Electricity from gas (TWh)               6241 non-null   float64\n",
      " 5   Electricity from hydro (TWh)             6241 non-null   float64\n",
      " 6   Electricity from other renewables (TWh)  6241 non-null   float64\n",
      " 7   Electricity from solar (TWh)             6241 non-null   float64\n",
      " 8   Electricity from oil (TWh)               6241 non-null   float64\n",
      " 9   Electricity from wind (TWh)              6241 non-null   float64\n",
      " 10  Electricity from nuclear (TWh)           6241 non-null   float64\n",
      "dtypes: float64(8), int64(1), object(2)\n",
      "memory usage: 536.5+ KB\n"
     ]
    }
   ],
   "source": [
    "def filling_missing(df, column):\n",
    "    mean = df[column].mean()\n",
    "    std = df[column].std()\n",
    "    minimum_value = 0\n",
    "    missing_values = df[column].isna().sum()\n",
    "    rng = np.random.default_rng()\n",
    "    random_values = rng.integers(low = minimum_value, high = mean + std, size = missing_values)\n",
    "    df.loc[df[column].isna(), column] = random_values\n",
    "\n",
    "filling_missing(electricity_production, 'Electricity from coal (TWh)')\n",
    "filling_missing(electricity_production, 'Electricity from gas (TWh)')\n",
    "filling_missing(electricity_production, 'Electricity from other renewables (TWh)')\n",
    "filling_missing(electricity_production, 'Electricity from oil (TWh)')\n",
    "electricity_production.info()"
   ]
  },
  {
   "cell_type": "code",
   "execution_count": 5,
   "metadata": {},
   "outputs": [
    {
     "data": {
      "text/html": [
       "<div>\n",
       "<style scoped>\n",
       "    .dataframe tbody tr th:only-of-type {\n",
       "        vertical-align: middle;\n",
       "    }\n",
       "\n",
       "    .dataframe tbody tr th {\n",
       "        vertical-align: top;\n",
       "    }\n",
       "\n",
       "    .dataframe thead th {\n",
       "        text-align: right;\n",
       "    }\n",
       "</style>\n",
       "<table border=\"1\" class=\"dataframe\">\n",
       "  <thead>\n",
       "    <tr style=\"text-align: right;\">\n",
       "      <th></th>\n",
       "      <th>Entity</th>\n",
       "      <th>Code</th>\n",
       "      <th>Year</th>\n",
       "      <th>Electricity from coal (TWh)</th>\n",
       "      <th>Electricity from gas (TWh)</th>\n",
       "      <th>Electricity from hydro (TWh)</th>\n",
       "      <th>Electricity from other renewables (TWh)</th>\n",
       "      <th>Electricity from solar (TWh)</th>\n",
       "      <th>Electricity from oil (TWh)</th>\n",
       "      <th>Electricity from wind (TWh)</th>\n",
       "      <th>Electricity from nuclear (TWh)</th>\n",
       "      <th>Total electricity produced</th>\n",
       "    </tr>\n",
       "  </thead>\n",
       "  <tbody>\n",
       "    <tr>\n",
       "      <th>0</th>\n",
       "      <td>Afghanistan</td>\n",
       "      <td>AFG</td>\n",
       "      <td>2000</td>\n",
       "      <td>0.0</td>\n",
       "      <td>0.155</td>\n",
       "      <td>0.312</td>\n",
       "      <td>0.0</td>\n",
       "      <td>0.0</td>\n",
       "      <td>0.0</td>\n",
       "      <td>0.0</td>\n",
       "      <td>0.0</td>\n",
       "      <td>0.467</td>\n",
       "    </tr>\n",
       "    <tr>\n",
       "      <th>1</th>\n",
       "      <td>Afghanistan</td>\n",
       "      <td>AFG</td>\n",
       "      <td>2001</td>\n",
       "      <td>0.0</td>\n",
       "      <td>0.094</td>\n",
       "      <td>0.498</td>\n",
       "      <td>0.0</td>\n",
       "      <td>0.0</td>\n",
       "      <td>0.0</td>\n",
       "      <td>0.0</td>\n",
       "      <td>0.0</td>\n",
       "      <td>0.592</td>\n",
       "    </tr>\n",
       "    <tr>\n",
       "      <th>2</th>\n",
       "      <td>Afghanistan</td>\n",
       "      <td>AFG</td>\n",
       "      <td>2002</td>\n",
       "      <td>0.0</td>\n",
       "      <td>0.132</td>\n",
       "      <td>0.555</td>\n",
       "      <td>0.0</td>\n",
       "      <td>0.0</td>\n",
       "      <td>0.0</td>\n",
       "      <td>0.0</td>\n",
       "      <td>0.0</td>\n",
       "      <td>0.687</td>\n",
       "    </tr>\n",
       "    <tr>\n",
       "      <th>3</th>\n",
       "      <td>Afghanistan</td>\n",
       "      <td>AFG</td>\n",
       "      <td>2003</td>\n",
       "      <td>0.0</td>\n",
       "      <td>0.309</td>\n",
       "      <td>0.630</td>\n",
       "      <td>0.0</td>\n",
       "      <td>0.0</td>\n",
       "      <td>0.0</td>\n",
       "      <td>0.0</td>\n",
       "      <td>0.0</td>\n",
       "      <td>0.939</td>\n",
       "    </tr>\n",
       "    <tr>\n",
       "      <th>4</th>\n",
       "      <td>Afghanistan</td>\n",
       "      <td>AFG</td>\n",
       "      <td>2004</td>\n",
       "      <td>0.0</td>\n",
       "      <td>0.329</td>\n",
       "      <td>0.565</td>\n",
       "      <td>0.0</td>\n",
       "      <td>0.0</td>\n",
       "      <td>0.0</td>\n",
       "      <td>0.0</td>\n",
       "      <td>0.0</td>\n",
       "      <td>0.894</td>\n",
       "    </tr>\n",
       "  </tbody>\n",
       "</table>\n",
       "</div>"
      ],
      "text/plain": [
       "        Entity Code  Year  Electricity from coal (TWh)  \\\n",
       "0  Afghanistan  AFG  2000                          0.0   \n",
       "1  Afghanistan  AFG  2001                          0.0   \n",
       "2  Afghanistan  AFG  2002                          0.0   \n",
       "3  Afghanistan  AFG  2003                          0.0   \n",
       "4  Afghanistan  AFG  2004                          0.0   \n",
       "\n",
       "   Electricity from gas (TWh)  Electricity from hydro (TWh)  \\\n",
       "0                       0.155                         0.312   \n",
       "1                       0.094                         0.498   \n",
       "2                       0.132                         0.555   \n",
       "3                       0.309                         0.630   \n",
       "4                       0.329                         0.565   \n",
       "\n",
       "   Electricity from other renewables (TWh)  Electricity from solar (TWh)  \\\n",
       "0                                      0.0                           0.0   \n",
       "1                                      0.0                           0.0   \n",
       "2                                      0.0                           0.0   \n",
       "3                                      0.0                           0.0   \n",
       "4                                      0.0                           0.0   \n",
       "\n",
       "   Electricity from oil (TWh)  Electricity from wind (TWh)  \\\n",
       "0                         0.0                          0.0   \n",
       "1                         0.0                          0.0   \n",
       "2                         0.0                          0.0   \n",
       "3                         0.0                          0.0   \n",
       "4                         0.0                          0.0   \n",
       "\n",
       "   Electricity from nuclear (TWh)  Total electricity produced  \n",
       "0                             0.0                       0.467  \n",
       "1                             0.0                       0.592  \n",
       "2                             0.0                       0.687  \n",
       "3                             0.0                       0.939  \n",
       "4                             0.0                       0.894  "
      ]
     },
     "execution_count": 5,
     "metadata": {},
     "output_type": "execute_result"
    }
   ],
   "source": [
    "electricity_value = electricity_production.iloc[:, 3:]\n",
    "electricity_production['Total electricity produced'] = electricity_value.sum(axis=1)\n",
    "electricity_production.head()"
   ]
  },
  {
   "cell_type": "code",
   "execution_count": 6,
   "metadata": {},
   "outputs": [
    {
     "name": "stderr",
     "output_type": "stream",
     "text": [
      "<ipython-input-6-280246269df2>:12: SettingWithCopyWarning: \n",
      "A value is trying to be set on a copy of a slice from a DataFrame.\n",
      "Try using .loc[row_indexer,col_indexer] = value instead\n",
      "\n",
      "See the caveats in the documentation: https://pandas.pydata.org/pandas-docs/stable/user_guide/indexing.html#returning-a-view-versus-a-copy\n",
      "  world_electricity_produced['Total electricity by renewables'] = sum(renew)\n"
     ]
    }
   ],
   "source": [
    "oldest_year = electricity_production['Year'].min()\n",
    "entity_back_to_1985 = electricity_production[electricity_production['Year'] == oldest_year]\n",
    "countries_back_to_1985 = electricity_production[electricity_production['Entity'].isin(entity_back_to_1985['Entity'])]\n",
    "countries_back_to_1985.reset_index(drop=True, inplace=True)\n",
    "world_electricity_produced = electricity_production[electricity_production['Entity']=='World']\n",
    "\n",
    "renew = [world_electricity_produced['Electricity from hydro (TWh)'],\n",
    " world_electricity_produced['Electricity from solar (TWh)'],\n",
    " world_electricity_produced['Electricity from wind (TWh)'], \n",
    " world_electricity_produced['Electricity from other renewables (TWh)']]\n",
    "\n",
    "world_electricity_produced['Total electricity by renewables'] = sum(renew)\n"
   ]
  },
  {
   "cell_type": "code",
   "execution_count": 7,
   "metadata": {},
   "outputs": [
    {
     "data": {
      "image/png": "[encoded data removed]",
      "text/plain": [
       "<Figure size 432x288 with 1 Axes>"
      ]
     },
     "metadata": {
      "needs_background": "light"
     },
     "output_type": "display_data"
    }
   ],
   "source": [
    "countries_back_to_1985 = countries_back_to_1985[countries_back_to_1985['Entity'] != 'World']\n",
    "\n",
    "plt.plot(world_electricity_produced['Year'], world_electricity_produced['Total electricity produced'], marker='*',\n",
    "        mfc = 'r', ms=10)\n",
    "plt.grid(axis='y')\n",
    "plt.title('World yearly electricity production')\n",
    "plt.xlabel(' Year', c='g')\n",
    "plt.ylabel('Electricity produced (TWh)', c='g')\n",
    "plt.show()"
   ]
  },
  {
   "cell_type": "code",
   "execution_count": 8,
   "metadata": {},
   "outputs": [
    {
     "data": {
      "image/png": "[encoded data removed]",
      "text/plain": [
       "<Figure size 432x288 with 2 Axes>"
      ]
     },
     "metadata": {
      "needs_background": "light"
     },
     "output_type": "display_data"
    }
   ],
   "source": [
    "perc_world = 100*(world_electricity_produced['Total electricity by renewables'] / world_electricity_produced['Total electricity produced'])\n",
    "\n",
    "fig, axs = plt.subplots(1, 2)\n",
    "fig.tight_layout()\n",
    "axs[0].plot(world_electricity_produced['Year'], world_electricity_produced['Total electricity by renewables'], c='g')\n",
    "# axs[0].set_xticklabels(world_electricity_produced['Year'], rotation=90)\n",
    "axs[0].set_title('Yearly electricity produced by renewable')\n",
    "axs[0].set_ylabel('Electricity produced by renewable (TWh)')\n",
    "\n",
    "axs[1].plot(world_electricity_produced['Year'], perc_world, c='y')\n",
    "axs[1].set_title('percentage by renewable')\n",
    "axs[1].set_ylabel('% of electricity by renewable')\n",
    "plt.show()"
   ]
  },
  {
   "cell_type": "code",
   "execution_count": 10,
   "metadata": {},
   "outputs": [
    {
     "data": {
      "image/png": "[encoded data removed]",
      "text/plain": [
       "<Figure size 432x288 with 1 Axes>"
      ]
     },
     "metadata": {
      "needs_background": "light"
     },
     "output_type": "display_data"
    }
   ],
   "source": [
    "top_10_entity = countries_back_to_1985.groupby('Entity')['Total electricity produced'].sum().nlargest(10).sort_values()\n",
    "\n",
    "plt.bar(top_10_entity.index, top_10_entity)\n",
    "plt.xticks(rotation=90)\n",
    "plt.show()"
   ]
  },
  {
   "cell_type": "code",
   "execution_count": 11,
   "metadata": {},
   "outputs": [
    {
     "name": "stderr",
     "output_type": "stream",
     "text": [
      "<ipython-input-11-0b2f07a9e468>:15: UserWarning: FixedFormatter should only be used together with FixedLocator\n",
      "  axs[0].set_xticklabels(sorted_electricity_asia.index, rotation=90)\n",
      "<ipython-input-11-0b2f07a9e468>:17: UserWarning: FixedFormatter should only be used together with FixedLocator\n",
      "  axs[1].set_xticklabels(sorted_electricity_NA.index, rotation=90)\n"
     ]
    },
    {
     "data": {
      "image/png": "[encoded data removed]",
      "text/plain": [
       "<Figure size 432x288 with 2 Axes>"
      ]
     },
     "metadata": {
      "needs_background": "light"
     },
     "output_type": "display_data"
    }
   ],
   "source": [
    "asia_pacific = countries_back_to_1985[countries_back_to_1985['Entity']=='Asia Pacific'].sum(axis=0)\n",
    "# print(asia_pacific)\n",
    "sorted_electricity_asia = asia_pacific[3:11].sort_values()\n",
    "North_America = countries_back_to_1985[countries_back_to_1985['Entity']=='North America'].sum(axis=0)\n",
    "sorted_electricity_NA = North_America[3:11].sort_values()\n",
    "\n",
    "\n",
    "fig, axs = plt.subplots(1, 2, sharey=True)\n",
    "fig.tight_layout()\n",
    "axs[0].bar(sorted_electricity_asia.index, sorted_electricity_asia)\n",
    "axs[1].bar(sorted_electricity_NA.index, sorted_electricity_NA)\n",
    "\n",
    "# axs[0].xticks(rotation=90)\n",
    "axs[0].set_title('Asia Pacific')\n",
    "axs[0].set_xticklabels(sorted_electricity_asia.index, rotation=90)\n",
    "axs[1].set_title('North America')\n",
    "axs[1].set_xticklabels(sorted_electricity_NA.index, rotation=90)\n",
    "axs[0].grid(axis='y')\n",
    "axs[1].grid(axis='y')\n",
    "plt.show()"
   ]
  },
  {
   "cell_type": "code",
   "execution_count": 12,
   "metadata": {},
   "outputs": [
    {
     "name": "stdout",
     "output_type": "stream",
     "text": [
      "56.157262839310526 41.1170089340513\n"
     ]
    }
   ],
   "source": [
    "reliance_on_coal_AP = 100 *(sorted_electricity_asia[-1] / asia_pacific[-1])\n",
    "reliance_on_coal_NA = 100 *(sorted_electricity_NA[-1] / North_America[-1])\n",
    "print(reliance_on_coal_AP,reliance_on_coal_NA)"
   ]
  },
  {
   "cell_type": "code",
   "execution_count": null,
   "metadata": {},
   "outputs": [],
   "source": []
  },
  {
   "cell_type": "code",
   "execution_count": null,
   "metadata": {},
   "outputs": [],
   "source": []
  }
 ],
 "metadata": {
  "interpreter": {
   "hash": "0713b668b7cec8e3c6999be9a5ab16fbf1640704fe12e12e97f2a86458a32aa7"
  },
  "kernelspec": {
   "display_name": "Python 3.8.8 64-bit ('base': conda)",
   "name": "python3"
  },
  "language_info": {
   "codemirror_mode": {
    "name": "ipython",
    "version": 3
   },
   "file_extension": ".py",
   "mimetype": "text/x-python",
   "name": "python",
   "nbconvert_exporter": "python",
   "pygments_lexer": "ipython3",
   "version": "3.8.8"
  },
  "orig_nbformat": 4
 },
 "nbformat": 4,
 "nbformat_minor": 2
}
